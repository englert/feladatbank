{
  "nbformat": 4,
  "nbformat_minor": 0,
  "metadata": {
    "colab": {
      "name": "p1alapvizsga.ipynb",
      "private_outputs": true,
      "provenance": [],
      "authorship_tag": "ABX9TyNPWSIfBICpP3zvKegCS3N9",
      "include_colab_link": true
    },
    "kernelspec": {
      "name": "python3",
      "display_name": "Python 3"
    },
    "language_info": {
      "name": "python"
    }
  },
  "cells": [
    {
      "cell_type": "markdown",
      "metadata": {
        "id": "view-in-github",
        "colab_type": "text"
      },
      "source": [
        "<a href=\"https://colab.research.google.com/github/englert/feladatbank/blob/main/p1alapvizsga.ipynb\" target=\"_parent\"><img src=\"https://colab.research.google.com/assets/colab-badge.svg\" alt=\"Open In Colab\"/></a>"
      ]
    },
    {
      "cell_type": "code",
      "execution_count": null,
      "metadata": {
        "id": "UOQcHogjDf6U"
      },
      "outputs": [],
      "source": [
        "# ZamArtem  30random.py\n",
        "\"\"\"Írj egy programot, amely [1;12] intervallumon állít elő 30 darab véletlenszámot! \n",
        "A képernyőre kizárólag csak az 5-el oszthatóakat írja ki, majd jelenítse meg az összes véletlen\n",
        "generált számot és a végén informálja a felhasználót arról is, hány darab ilyen szám volt.\n",
        "\"\"\"\n",
        "from random import randint\n",
        "\n",
        "szamlista = [randint(1, 12)for szam in range(30)]\n",
        "otteloszthato = len([szam for szam in szamlista if szam %5 == 0])\n",
        "print(szamlista)\n",
        "print(f'Öttel osztható számok száma: {otteloszthato}')\n",
        "\n",
        "################################################################\n",
        "#masik modszer\n",
        "\n",
        "lista  = []\n",
        "osszeg = []\n",
        "for i in range(30):\n",
        "    y = randint(1, 12)\n",
        "    if y % 5 == 0:\n",
        "        osszeg.append(y)        \n",
        "    lista.append(y)\n",
        "print(lista)\n",
        "print(f'Öttel osztható számok száma: {len(osszeg)}')"
      ]
    },
    {
      "cell_type": "markdown",
      "source": [
        "# Új szakasz"
      ],
      "metadata": {
        "id": "PrP6DLBqPepl"
      }
    },
    {
      "cell_type": "code",
      "source": [
        "# ZamArtem Pozitív_páros.py  Update and rename p1adam_001 to Pozitív_páros.py\n",
        "'''1. Feladat\n",
        "Készíts egy programot, amely a felhasználótól bekér egy egész számot, majd megvizsgálja, hogy a megadott szám\n",
        "- pozitív páros vagy\n",
        "- negatív páratlan.\n",
        "Az eredményről tájékoztatja a felhasználót.\n",
        "Pld:\n",
        "------------------------\n",
        "Kérek egy számot: 2\n",
        "Pozitív páros.\n",
        "------------------------\n",
        "Kérek egy számot: -1\n",
        "Negatív páratlan.\n",
        "'''\n",
        "\n",
        "#megoldás:\n",
        "beker = int(input('Kérek egy számot: '))\n",
        "if beker > 0 and beker %2 == 0:\n",
        "    print('Pozitív páros.')\n",
        "if beker < 0 and beker %2 != 0:\n",
        "    print('Negatív páratlan.')"
      ],
      "metadata": {
        "id": "hY90sdZ3DzYG"
      },
      "execution_count": null,
      "outputs": []
    },
    {
      "cell_type": "code",
      "source": [
        "#loczylevi abszolut.py Rename p1noel_003 to abszolut.py\n",
        "'''1. feladat: Hozzon létre egy olyan függvényt, amely egy értéknek visszatér az abszolút értékével!\n",
        "'''\n",
        "\n",
        "def abszolut(x):\n",
        "  if x > 0:\n",
        "    return x\n",
        "  else:\n",
        "    return -x"
      ],
      "metadata": {
        "id": "S3Kcn6E7EKPK"
      },
      "execution_count": null,
      "outputs": []
    },
    {
      "cell_type": "code",
      "source": [
        "# ZamArtem betu_a_szoban.py\n",
        "'''A program tároljon el egy szót egy változóban. A felhasználó adjon meg egy betűt, \n",
        "amiről a program döntse el, hogy előfordul-e a szóban! \n",
        "Az eredményről tájékoztassa a felhasználót, és írja ki a tárolt szót is!\n",
        "   \n",
        "A felhasználónak többször is legyen lehetősége újabb tippet megadnia. A bekérés addig folytatódjon, \n",
        "amíg a felhasználó nem ad meg betűt, csupán egy ENTER-t üt!   \n",
        "\n",
        "Igyekezz minél felhasználóbarátabbá tenni a programot! A programnak lehetnek egyéb hasznos funkciói, \n",
        "például gyűjtheti és kiírhatja a jó és a rossz tippeket (betűket).\n",
        "\n",
        "'''\n",
        "\n",
        "#megoldas\n",
        "\n",
        "szo = \"python\"\n",
        "print(szo, \"\\n\")\n",
        "\n",
        "jo_lista = []\n",
        "rossz_lista = []\n",
        "\n",
        "while True:\n",
        "  betu = input(\"Kérek egy betűt:\")\n",
        "  if betu == \"\":\n",
        "    break\n",
        "  else:\n",
        "    if betu in szo:\n",
        "      jo_lista.append(betu)\n",
        "    else:\n",
        "      rossz_lista.append(betu)\n",
        "\n",
        "print(f'Jó tippek: {jo_lista}')\n",
        "print(f'Rossz tippek: {rossz_lista}')"
      ],
      "metadata": {
        "id": "UemJ-LE2E6cU"
      },
      "execution_count": null,
      "outputs": []
    },
    {
      "cell_type": "code",
      "source": [
        "# ZamArtem enter.py\n",
        "'''Készíts egy programot, amely a felhasználótól számokat kér be mindaddig, amíg az csupán ENTER-t nem üt! A számokat tárolja el a program egy listában! Az adatbekérés befejezte után írja ki a program a lista elemeit, a legkisebb és a legnagyobb számot!\n",
        "'''\n",
        "\n",
        "lista = []\n",
        "folytatja = True\n",
        "while folytatja:\n",
        "    bekeres = input(\"Kérek egy számot\\t\")\n",
        "    if bekeres != \"\":\n",
        "        lista.append(int(bekeres))\n",
        "    elif bekeres == \"\":\n",
        "        folytatja = False\n",
        "\n",
        "print(f\"lista elemei: {lista}\")\n",
        "print(f\"legkisebb: {min(lista)} legnagyobb: {max(lista)}\")"
      ],
      "metadata": {
        "id": "BQJMkOiNFqf3"
      },
      "execution_count": null,
      "outputs": []
    },
    {
      "cell_type": "code",
      "source": [
        "# ZamArtem fej_vagy_iras.py\n",
        "'''\n",
        "2. Feladat\n",
        "A program a pénzfeldobást modellezi. Kérdezze meg a felhasználótól a választását (fej vagy írás), majd adjon tájékoztatást, hogy eltalálta-e!\n",
        "'''\n",
        "\n",
        "import random\n",
        "lista = [\"fej\", \"írás\"]\n",
        "valasztas = random.choice(lista)\n",
        "\n",
        "beker = input(\"Fej vagy írás? \")\n",
        "\n",
        "if valasztas == beker:\n",
        "  print(\"Nyertél!!\")\n",
        "\n",
        "else:\n",
        "  print(\"Nem nyertél!\")"
      ],
      "metadata": {
        "id": "5a5MVHCNGwe7"
      },
      "execution_count": null,
      "outputs": []
    },
    {
      "cell_type": "code",
      "source": [
        "# ZamArtem haromnegy.py\n",
        "\"\"\"Készíts egy programot, amely a felhasználó által megadott egész számról eldönti, hogy\n",
        "A szám csak 3-mal osztható,\n",
        "a szám csak 4-gyel osztható,\n",
        "a szám 3-mal és 4-gyel is osztható,\n",
        "a szám sem 3-mal, sem 4-gyel nem osztható!\"\"\"\n",
        "\n",
        "szam = int(input(\"Kérek egy pozitív egész számot: \"))\n",
        "\n",
        "if szam % 3 == 0 and szam % 4 ==0:\n",
        "    print(\"A szám 3-mal és 4-gyel is osztható.\")\n",
        "elif szam % 3 == 0:\n",
        "    print(\"A szám csak 3-mal osztható\")\n",
        "elif szam % 4 == 0:\n",
        "    print(\"A szám csak 4-gyel osztható\")\n",
        "else:\n",
        "    print(\"A szám sem 3-mal, sem 4-gyel nem osztható!\")"
      ],
      "metadata": {
        "id": "US-8PY9eIXqs"
      },
      "execution_count": null,
      "outputs": []
    },
    {
      "cell_type": "code",
      "source": [
        "# violetta2413 hosszabb_szo.py\n",
        "''' \n",
        "A program kérjen be két szót a felhasználótól, majd írja ki, \n",
        "hogy melyik a hosszabb illetve azt is ha a két szó egyenlő! \n",
        "'''\n",
        "\n",
        "#megoldas\n",
        "\n",
        "szo1 = input(\"Adj meg egy szót!\")\n",
        "szo2 = input(\"Adj meg egy másik szót!\")\n",
        "\n",
        "if len(szo1) > len(szo2):\n",
        "  print(f'A hosszabb szó:{szo1}')\n",
        "elif len(szo1) == len(szo2):\n",
        "  print(f'A két szó egyforma hosszú.')\n",
        "else:\n",
        "  len(szo2) > len(szo1)\n",
        "  print(f'A hosszabb szó:{szo2}')"
      ],
      "metadata": {
        "id": "67yfTQmNF-Nu"
      },
      "execution_count": null,
      "outputs": []
    },
    {
      "cell_type": "code",
      "source": [
        "# ZamArtem intszavak.py \n",
        "\"\"\"\n",
        "írj egy programot, ami: bekér egy számot (int), majd egy tetszőlesges karakterlácot (string). \n",
        "Ezt követően kiírja a karakterláncot csupa nagybetüvel, egymás mellé, szóközökkel elválasztva annyiszor, amennyiv a bekért egész szám volt!\"\"\"\n",
        "\n",
        "\"\"\"\n",
        "Minta: (output)\n",
        "1.feladat:\n",
        "írj be egy egész számot: 12\n",
        "írj be egy tetszőleges szöveget: hörcsög\n",
        "HÖRCSÖG HÖRCSÖG HÖRCSÖG HÖRCSÖG HÖRCSÖG HÖRCSÖG HÖRCSÖG HÖRCSÖG HÖRCSÖG HÖRCSÖG HÖRCSÖG HÖRCSÖG \n",
        "\"\"\"\n",
        "\n",
        "# lehetséges megoldás\n",
        "\n",
        "print(\"1.feladat:\")\n",
        "bekeres = int(input(\"írj be egy egész számot: \"))\n",
        "bekeres2 = input(\"írj be egy tetszőleges szöveget: \")\n",
        "bekeres2 = bekeres2.upper()\n",
        "for i in range(bekeres):\n",
        "  print(bekeres2, end=\" \")"
      ],
      "metadata": {
        "id": "7xBVXErXI1PY"
      },
      "execution_count": null,
      "outputs": []
    },
    {
      "cell_type": "code",
      "source": [
        "#  ZamArtem jelszo.py\n",
        " '''\n",
        " Írjon programot jelszo.py néven, amely azt vizsgálja, hogy egy felhasználó helyesen adja-e meg a jelszavát! \n",
        " A program addig kérdezi újra a felhasználónév-jelszó párost, amíg a felhasználó mindkettőt hibátlanul meg nem adja. \n",
        " A program egyetlen felhasználó (sis) jelszavát (1234) ismeri, csak ezt a párost fogadja el helyesként. \n",
        " Mind a sikertelen, mind a sikeres bejelentkezési kísérletekről üzenetet ír a képernyőre.\n",
        "'''\n",
        "\n",
        "felhasznalonev = input('Kérem a felhasználó nevét: ')\n",
        "password = input('Kérem a jelszót: ')\n",
        "if felhasznalonev == \"sis\" and password == \"1234\":\n",
        "  print(\"Üdvözlöm!\")\n",
        "else:\n",
        "  print('Sikertelen bejelentkezés')"
      ],
      "metadata": {
        "id": "ytbE4yPEJK1m"
      },
      "execution_count": null,
      "outputs": []
    },
    {
      "cell_type": "code",
      "source": [
        "# ZamArtem Rename p1.feladatk.attila to keresztnev.py\n",
        "'''\n",
        "1.1 Feladat\n",
        "Készíts egy programot, amely a felhasználótól keresztneveket kér be egészen addig, amíg az ENTER-t nem üt (nem ad meg újabb nevet a bekérésnél)! \n",
        "A program a bekért neveket írja ki a képernyőre!\n",
        "'''\n",
        "szavak = []\n",
        "szo = None\n",
        "while szo !='':\n",
        "    szo = input( 'Adj meg keresztneveket! ')\n",
        "    if szo != '':\n",
        "        szavak.append(szo)\n",
        "print(szavak)"
      ],
      "metadata": {
        "id": "1JhwwUb_JeiM"
      },
      "execution_count": null,
      "outputs": []
    },
    {
      "cell_type": "code",
      "source": [
        "# ZamArtem Rename main.py to kettoegyenlo.py\n",
        "'''\n",
        "Nagyobb szám.\n",
        "A program kérjen be két számot a felhasználótól, majd írja ki, hogy melyik a nagyobb! \n",
        "A program üzeneteinek megfogalmazásában kövesse az alábbi mintát:\n",
        "--------------\n",
        "Adj meg egy számot! 1\n",
        "Adj meg egy másik számot! 17\n",
        "A nagyobb érték 17\n",
        "--------------\n",
        "Adj meg egy számot! 28\n",
        "Adj meg egy másik számot! -2\n",
        "A nagyobb érték: 28\n",
        "---------------\n",
        "Adj meg egy számot! 999\n",
        "Adj meg egy másik számot! 999\n",
        "A két szám egyenlő\n",
        "------------------\n",
        "'''\n",
        "\n",
        "elso_szam = int(input(\"Adj meg egy számot! \"))\n",
        "masodik_szam = int(input(\"Adj meg egy másik számot! \"))\n",
        "\n",
        "while True:\n",
        "  if elso_szam > masodik_szam:\n",
        "    print(f\"A nagyobb érték: {elso_szam}\")\n",
        "    break\n",
        "  elif elso_szam < masodik_szam:\n",
        "    print(f\"A nagyobb érték: {masodik_szam}\")\n",
        "    break\n",
        "  elif elso_szam == masodik_szam:\n",
        "    print(\"A két szám egyenlő.\")\n",
        "    break"
      ],
      "metadata": {
        "id": "rHTktzn8JsQ8"
      },
      "execution_count": null,
      "outputs": []
    },
    {
      "cell_type": "code",
      "source": [
        "# loczylevi Rename p1szendro_002 to legrovidebb_szo.py\n",
        "\n",
        "\"\"\"\n",
        "Feladat:\n",
        "Írj egy programot, amely a felhasználótól bekér 3 szót, ezeket egy listában tárolja, és egy eljárás\n",
        "segítségével meghatározza, és a képernyőre kiírja, melyik a legrövidebb szó!\n",
        "\"\"\"\n",
        "\n",
        "#megtoldás:\n",
        "\n",
        "lista= []\n",
        "for i in range(3):\n",
        "    nev = input(\"Kérek egy szót: \")\n",
        "    lista.append(nev)\n",
        "def legrovidebb():\n",
        "    kicsi = lista[0]\n",
        "    for i in lista:\n",
        "        if len(i) > len(kicsi):\n",
        "            i = kicsi\n",
        "    return print(f\"A legrövidebb szó: {i}\")\n",
        "legrovidebb()"
      ],
      "metadata": {
        "id": "cNklGhELJ49A"
      },
      "execution_count": null,
      "outputs": []
    },
    {
      "cell_type": "code",
      "source": [
        " # ZamArtem Update and rename p1.feladatk.attila5 to lista_osszege.py\n",
        " '''\n",
        "Készíts egy programot, amely [1;10] intervallumon generál 5 darab véletlen egész számot, és ezeket tárolja el egy listában! \n",
        "A program adja össze a lista elemeit, írja ki a képernyőre az összegüket és a lista elemeit!\n",
        "'''\n",
        "import random\n",
        "szamok = []\n",
        "for i in range(5):\n",
        "    szamok.append(random.randint(1, 10))\n",
        "print(f\"A lista elemei: {szamok}\")\n",
        "print(f\"a lista összege: {sum(szamok)}\")"
      ],
      "metadata": {
        "id": "RwqEkp1xKBB_"
      },
      "execution_count": null,
      "outputs": []
    },
    {
      "cell_type": "code",
      "source": [
        "# loczylevi Rename p1noel_002 to melyik kisebb.py\n",
        "#1. feladat: Hozzon létre egy olyan függvényt, amely két érték közül visszatér a kisebb értékkel!\n",
        "    \n",
        "'''Lehetséges Megoldás'''\n",
        "\n",
        "def minimum(x, y):\n",
        "  if x <= y:\n",
        "    return x\n",
        "  else:\n",
        "    return y"
      ],
      "metadata": {
        "id": "CkV5-OwgKPu8"
      },
      "execution_count": null,
      "outputs": []
    },
    {
      "cell_type": "code",
      "source": [
        "# loczylevi Rename p1noel_001 to melyik_nagyobb.py\n",
        "#1. feladat: Hozzon létre egy olyan függvényt, amely két érték közül visszatér a nagyobb értékkel!\n",
        "\n",
        "'''Lehetséges Megoldás'''\n",
        "\n",
        "def maximum(x, y):\n",
        "  if x >= y:\n",
        "    return x\n",
        "  else:\n",
        "    return y"
      ],
      "metadata": {
        "id": "E61oCakoKaq8"
      },
      "execution_count": null,
      "outputs": []
    },
    {
      "cell_type": "code",
      "source": [
        "# kovacsbalazspeter21 Update mindadig_mig_x.py\n",
        "'''\n",
        "Készíts egy programot, amely a felhasználótól számokat kér be mindaddig, amíg az 'X'-et vagy 'x'-et nem üt! A számokat tárolja el a program egy listában! \n",
        "Az adatbekérés befejezte után írja ki a program a lista elemeit, a legkisebb és a legnagyobb számot!\n",
        "'''\n",
        "\n",
        "lista = []\n",
        "while True:\n",
        "        szamok = input(\"Kérek egy számot: \")\n",
        "        if szamok == \"x\" or szamok == \"X\":\n",
        "            break\n",
        "        else:\n",
        "            lista.append(int(szamok))\n",
        "print(f\"Legkissebb: {min(lista)} Legnagyobb: {max(lista)}\")"
      ],
      "metadata": {
        "id": "B8zViS09Khr7"
      },
      "execution_count": null,
      "outputs": []
    },
    {
      "cell_type": "code",
      "source": [
        "# violetta2413 Rename p1violetta_005.py to mondatvégi_jel.py\n",
        "'''\n",
        "Készíts egy programot, amely a felhasználó által megadott mondatról a mondatvégi jel alapján eldönti milyen fajtájú! \n",
        "(kijelentő, kérdő, felkiáltó/felszólító)\n",
        "'''\n",
        "\n",
        "#megoldas\n",
        "\n",
        "mondat = input(\"Írj ide egy mondatot:\")\n",
        "mjel = mondat[-1]\n",
        "\n",
        "if mjel == \"!\":\n",
        "  print(\"A mondat fajtája: Felkiáltó/Felszólító \")\n",
        "elif mjel == \"?\":\n",
        "  print(\"A mondat fajtája: Kérdő\")\n",
        "else:\n",
        "  mjel == \".\"\n",
        "  print(\"A mondat fajtája: Kijelentő\")"
      ],
      "metadata": {
        "id": "GF2Mpmf4KrAy"
      },
      "execution_count": null,
      "outputs": []
    },
    {
      "cell_type": "code",
      "source": [
        "# hadaszibalazs205 Create p1.Ebetű.py\n",
        "'''\n",
        "A program számolja össze, hogy hány darab 'E' vagy 'e' betűt tartalmazó szó van a szavak listában. \n",
        "A képernyőre írja is ki a feltételnek megfelelő szavakat!\n",
        "'''\n",
        "\n",
        "szavak = ['Elemér', 'Emma', 'ajtó', 'róka', 'egér']\n",
        "eszavak = []\n",
        "for valami in szavak:\n",
        "    if 'e' in valami or 'E' in valami:\n",
        "        eszavak.append(valami)\n",
        "\n",
        "print(f'a következő szavak tartalmaznak E/e betűt: {eszavak}')"
      ],
      "metadata": {
        "id": "cDYZGs4IKxPK"
      },
      "execution_count": null,
      "outputs": []
    },
    {
      "cell_type": "code",
      "source": [
        "# ZamArtem Update p1.Tbetű.py\n",
        "'''\n",
        "A  ['ajtó','tojás','Ottó','Tamás', 'tép','Tesla','alma','python'] lista elemei közül a program kiírja a \"t\" és \"T\" betűkkel kezdődőeket!\n",
        "'''\n",
        "t_betu=[]\n",
        "lista = ['ajtó','tojás','Ottó','Tamás', 'tép','Tesla','alma','python']\n",
        "\n",
        "for i in lista:\n",
        "    if i[0] == 't' or i[0] == 'T':\n",
        "        t_betu.append(i)\n",
        "print(t_betu)"
      ],
      "metadata": {
        "id": "wJlLSY7oK5JJ"
      },
      "execution_count": null,
      "outputs": []
    },
    {
      "cell_type": "code",
      "source": [
        "# ZamArtem Update p1.eldöntés.py\n",
        "'''\n",
        "Írj egy programot, amely 5 darab véletlenszámot generál [1;7] intervallumon,\n",
        "és ezeket eltárolja egy listában. Kérjen be a felhasználótól egy számot,\n",
        "és vizsgálja meg, hogy ez előfordul-e a listában! Az eredményről tájékoztassa a felhasználót,\n",
        "és írja ki a lista elemeit a képernyőre!\n",
        "Pld:\n",
        "Kérek egy számot: 1\n",
        "A megadott szam megtalalhato a listaban, [4, 2, 1, 2, 3]\n",
        "'''\n",
        "from random  import randint\n",
        "lista=[]\n",
        "for i in range(5):\n",
        "    lista.append(randint(1,7))\n",
        "\n",
        "beker = int(input('Kérek egy számot: '))\n",
        "\n",
        "if beker in lista:\n",
        "    print(f'a megadott szam megtalalhato a listaban, {lista}')\n",
        "else:"
      ],
      "metadata": {
        "id": "hwR4Z9a9LBfO"
      },
      "execution_count": null,
      "outputs": []
    },
    {
      "cell_type": "code",
      "source": [
        "# hadaszibalazs205 Rename p1hadaszi.generál.py to p1.generál.py\n",
        "\"\"\"\n",
        "Készíts egy rövid programot, amely 1 és 3 között generál véletlenszámot, majd összehasonlítja ezt a felhasználó által megadott, szintén ebbe a tartományba eső számmal! Az összehasonlítás eredményéről tájékoztassa a felhasználót!\n",
        "\"\"\"\n",
        "\n",
        "import random\n",
        "\n",
        "lista = [1, 2, 3]\n",
        "\n",
        "randomszam = int(input(\"Írj be egy számot: \"))\n",
        "szam = random.choice(lista)\n",
        "print(szam)\n",
        "\n",
        "if szam > randomszam:\n",
        "  print(\"A beírt szám kisebb!\")\n",
        "if szam < randomszam:\n",
        "  print(\"A beírt szám nagyobb!\")\n",
        "if szam == randomszam:\n",
        "  print(\"A beírt szám egyenlő!\")"
      ],
      "metadata": {
        "id": "dXL_OekbLHhm"
      },
      "execution_count": null,
      "outputs": []
    },
    {
      "cell_type": "code",
      "source": [
        "# hadaszibalazs205 Create p1.intervallum.py\n",
        "'''\n",
        "Készíts egy programot, amely [1;10] intervallumon generál 5 darab véletlen egész számot és ezeket tárolja el egy listában! A program számolja össze, és képernyőre írja ki a listában tárolt páros számok számát, valamint a lista elemeit!\n",
        "'''\n",
        "\n",
        "import random\n",
        "\n",
        "lista = []\n",
        "\n",
        "for i in range(5):\n",
        "  veletlen = random.randint(1, 10)\n",
        "  lista.append(veletlen)\n",
        "\n",
        "paroslista = []\n",
        "\n",
        "for i in lista:\n",
        "  if i % 2 == 0:\n",
        "    paroslista.append(i)\n",
        "\n",
        "print(f\"A páros számok száma: {len(paroslista)}\")\n",
        "print(lista)"
      ],
      "metadata": {
        "id": "TFj_1t-KLQHu"
      },
      "execution_count": null,
      "outputs": []
    },
    {
      "cell_type": "code",
      "source": [
        "# hadaszibalazs205 Create p1.kutya.py\n",
        "'''\n",
        "Írj egy programot, amely a felhasználótól bekéri egy kutya nevét, életkorát, fajtáját, és azt hogy rendelkezik-e érvényes oltással veszettség ellen! \n",
        "Az adatokat tárolja a program szótárban, és írja ki a képernyőre az adatszerkezetet!\n",
        "lista = []\n",
        "'''\n",
        "nev = input('kutya neve: ')\n",
        "faj = input('kutya fajtája: ')\n",
        "kor = int(input('kutya kora: '))\n",
        "olt = input('a kutya oltott-e? (i/n) : ')\n",
        "\n",
        "szotar = {\n",
        "    'nev' : nev ,\n",
        "    'faj' : faj,\n",
        "    'kor': kor,\n",
        "    'oltott_e': olt\n",
        "    }\n",
        "\n",
        "print(szotar)"
      ],
      "metadata": {
        "id": "QpDg3h1VLXpE"
      },
      "execution_count": null,
      "outputs": []
    },
    {
      "cell_type": "code",
      "source": [
        "# hadaszibalazs205 Create p1.macska.py\n",
        "'''\n",
        "Írj egy programot, amely szótárban tárolja egy macska nevét, korát. \n",
        "A felhasználónak legyen lehetősége megváltoztatni az egyik tárolt adatot. \n",
        "A program írja ki a felhasználó választása alapján az egyik adatot, kérdezze meg, mire módosítsa, végül írja ki a képernyőre a frissített adatszerkezetet!\n",
        "'''\n",
        "\n",
        "macskaadatok= {\n",
        "    'név': 'macska',\n",
        "    'kor': 5,\n",
        "}\n",
        "\n",
        "\n",
        "beker = input('Melyik adatot szeretnéd megváltoztatni? (név/kor):  ')\n",
        "if beker == \"név\":\n",
        "    macskaadatok['név'] = input('Mire szeretnéd módosítani?: ')\n",
        "    macskaadatok.get('név')\n",
        "    print(macskaadatok)\n",
        "\n",
        "\n",
        "\n",
        "if beker == \"kor\":\n",
        "    macskaadatok['kor'] = input('Mire szeretnéd módosítani?: ')\n",
        "    macskaadatok.get('kor')\n",
        "    print(macskaadatok)"
      ],
      "metadata": {
        "id": "GfiW05nLLklr"
      },
      "execution_count": null,
      "outputs": []
    },
    {
      "cell_type": "code",
      "source": [
        "# hadaszibalazs205 Update p1.mondatvége.py\n",
        "'''\n",
        "Készíts egy programot, amely a felhasználó által megadott mondatról a mondatvégi jel alapján eldönti milyen fajtájú! (kijelentő, kérdő, felkiáltó / felszólító / óhajtó)\n",
        "'''\n",
        "\n",
        "while True:\n",
        "        \n",
        "    beker = input('mondat: ')\n",
        "    if beker == '':\n",
        "        break\n",
        "    elif beker[-1] == '?':\n",
        "        print('kérdőmondat')\n",
        "\n",
        "    elif beker[-1] == '.':\n",
        "        print('kijelentő mondat')\n",
        "\n",
        "    elif beker[-1] == '!' and 'Bárcsak' in beker or 'bárcsak' in beker:\n",
        "        print('óhajtó')\n",
        "\n",
        "    elif beker[-1] == '!' and 'Bárcsak' not in beker or 'bárcsak'  not in  beker :\n",
        "        print('Felkialto mondat')"
      ],
      "metadata": {
        "id": "qmZGAx1QLsqV"
      },
      "execution_count": null,
      "outputs": []
    },
    {
      "cell_type": "code",
      "source": [
        "# hadaszibalazs205 Create p1.pozitív&negatív.py\n",
        "'''\n",
        "Írj egy programot, ami addig kér be egész pozitív számokat, amíg a felhasználó negtív számot nem ír! \n",
        "A megadott számokat tárolja a program egy listában, és ezt adja át paraméterként egy függvények, amely a lista legkisebb elemével tér vissza. \n",
        "A program írja ki, hogy melyik volt a megadott legkisebb szám!\n",
        "'''\n",
        "szamok = []\n",
        "while True:\n",
        "    beker = int(input('adj egy szamot (negatívat a megszakitashoz): '))\n",
        "    if beker > 0:\n",
        "        szamok.append(beker) \n",
        "    else:\n",
        "        break\n",
        "\n",
        "def kissebb(szamok):\n",
        "    return f'a legkissebb szam {min(szamok)}'\n",
        "\n",
        "print(kissebb(szamok))\n"
      ],
      "metadata": {
        "id": "yDKWFg-PLzoK"
      },
      "execution_count": null,
      "outputs": []
    },
    {
      "cell_type": "code",
      "source": [
        "# hadaszibalazs205 Rename p1hadaszi.pénzfeldobás.py to p1.pénzfeldobás.py\n",
        "'''\n",
        "A program a pénzfeldobást modellezi. Kérdezze meg a felhasználótól a választását (fej vagy írás), majd adjon tájékoztatást, hogy eltalálta-e!\n",
        "'''\n",
        "\n",
        "import random\n",
        "\n",
        "random.seed()\n",
        "\n",
        "def f(i):\n",
        "    print(\"%d. feladat\" % i)\n",
        "\n",
        "def egydobas():\n",
        "    return random.choice('FI')\n",
        "    \n",
        "tipp = input('Tippeljen! (F/I)= ')\n",
        "dob = egydobas()\n",
        "print('A tipp %s, a dobás eredménye %s volt.' % (tipp, dob))\n",
        "print('Ön eltalálta.' if tipp == dob else 'Ön nem találta el.')"
      ],
      "metadata": {
        "id": "_JTMXGUoL9cx"
      },
      "execution_count": null,
      "outputs": []
    },
    {
      "cell_type": "code",
      "source": [
        "# hadaszibalazs205 Create p1.véletlenszam.py\n",
        "'''\n",
        "Készíts egy rövid programot, amely 1 és 10 között generál véletlenszámot, majd összehasonlítja ezt a felhasználó által megadott, szintén ebbe a tartományba eső számmal! A bekérés addig folytatódjon ameddig a felhasználó nem ad meg negatív számot! Az összehasonlítás eredményéről tájékoztassa a felhasználót!\n",
        "'''\n",
        "\n",
        "import random\n",
        "\n",
        "general = random.randint(1, 10)\n",
        "\n",
        "while True:\n",
        "    beker = int(input(f'Kérek egy számot: '))\n",
        "    if beker == general:\n",
        "        print(f'Eltaláltad')\n",
        "        break    \n",
        "    else:\n",
        "      print(f'Nem találtad el')"
      ],
      "metadata": {
        "id": "Nd_bZywtMCbQ"
      },
      "execution_count": null,
      "outputs": []
    },
    {
      "cell_type": "code",
      "source": [
        "# loczylevi Create p1_fizzbuzz.py\n",
        "#1.nehézségi python feladat\n",
        "\"\"\"\n",
        "Hozzon létre egy számsorozatot 0-tól 100-ig,\n",
        "ami 3-mal osztható annál írja ki, hogy 'Fizz'\n",
        "ami 5-tel osztható annál írja ki, hogy 'Buzz'\n",
        "ami 3-mal és 5-tel is osztható annál írja li, hogy 'FizzBuzz'\n",
        "Ami se 3-mal se 5-tel nem osztható annál írjuk ki a magát a számot!\n",
        "\"\"\"\n",
        "\n",
        "\"\"\"Minta: (az első 10 sor output)\n",
        "FizzBuzz\n",
        "1\n",
        "2\n",
        "Fizz\n",
        "4\n",
        "Buzz\n",
        "Fizz\n",
        "7\n",
        "8\n",
        "Fizz\n",
        "Buzz\n",
        "\"\"\"\n",
        "\n",
        "\n",
        "#lehetséges megoldás\n",
        "\n",
        "for szam in range(101):\n",
        "  if szam % 3 == 0 and szam % 5 == 0:\n",
        "    print(\"FizzBuzz\")\n",
        "  elif szam % 3 == 0:\n",
        "    print(\"Fizz\")\n",
        "  elif szam % 5 == 0:\n",
        "    print(\"Buzz\")\n",
        "  else:\n",
        "    print(szam)\n",
        "© 2022 GitHub, Inc.\n",
        "Terms\n"
      ],
      "metadata": {
        "id": "-tvMI6ygMJGQ"
      },
      "execution_count": null,
      "outputs": []
    },
    {
      "cell_type": "code",
      "source": [
        "# loczylevi Create p1_kisebb_nagyobb.py\n",
        "\"\"\"\n",
        "Kérjen be a felhasználotol két egész számot (int) és tárolja el őket. írja ki, hogy melyik a nagyobb és melyik a kisebb szám! Ha két szám egyenlő, akkor azt is jelezze!\n",
        "Minta:    (output)\n",
        "1. feladat: Kisebb-nagyobb meghatározása\n",
        "Kérem az első számot: 12\n",
        "Kérem az második számot: 3\n",
        "A nagyobb szám 12, a kisebb 3.\n",
        "1. feladat: Kisebb-nagyobb meghatározása\n",
        "Kérem az első számot: -1\n",
        "Kérem az második számot: 16\n",
        "A nagyobb szám 16, a kisebb -1.\n",
        "1. feladat: Kisebb-nagyobb meghatározása\n",
        "Kérem az első számot: 8\n",
        "Kérem az második számot: 8\n",
        "A két szám egyenlő.\n",
        "\"\"\"\n",
        "\n",
        "# lehetséges megoldás\n",
        "\n",
        "print('1. feladat: Kisebb-nagyobb meghatározása')\n",
        "a = int(input('Kérem az első számot: '))\n",
        "b = int(input('Kérem az második számot: '))\n",
        "if a > b:\n",
        "    print(f\"A nagyobb szám {a}, a kisebb {b}\")\n",
        "elif b > a:\n",
        "    print(f\"A nagyobb szám {b}, a kisebb {a}\")\n",
        "else:\n",
        "    print('A két szám egyenlő.')"
      ],
      "metadata": {
        "id": "KtGrky-BMQM9"
      },
      "execution_count": null,
      "outputs": []
    },
    {
      "cell_type": "code",
      "source": [
        "# violetta2413 Rename p1violetta_002.py to paros_szamok.py\n",
        "''' \n",
        "Készíts egy programot, amely [1;10] intervallumon generál 5 darab véletlen egész számot \n",
        "és ezeket tárolja el egy listában! A program számolja össze és írja ki a képernyőre a \n",
        "listában tárolt páros számok számát, valamint a lista elemeit! \n",
        "'''\n",
        "\n",
        "#megoldás\n",
        "\n",
        "import random\n",
        "\n",
        "lista = [random.randint(1,10) for i in range(5)]\n",
        "\n",
        "paroslista = [i for i in lista if i % 2 == 0]\n",
        "\n",
        "print(lista)\n",
        "print(f\"A páros számok száma:{len(paroslista)}\")\n",
        "print(paroslista)"
      ],
      "metadata": {
        "id": "qmzH_C1dMYXH"
      },
      "execution_count": null,
      "outputs": []
    },
    {
      "cell_type": "code",
      "source": [
        "# loczylevi Rename p1noel_005 to paros_szamok2.py\n",
        "#1. feladat: Készíts egy programot, amely [1;10] intervallumon generál 5 darab véletlen egész számot és ezeket tárolja el egy listában!\n",
        "A program számolja össze, és képernyőre írja ki a listában tárolt páros számok számát, valamint a lista elemeit!\n",
        "\n",
        "import random\n",
        "lista = []\n",
        "paros = []\n",
        "\n",
        "for i in range(5):\n",
        "  a = random.randint(1, 10)\n",
        "  lista.append(a)\n",
        "\n",
        "for szam in lista:\n",
        "  if szam % 2 == 0:\n",
        "    paros.append(szam)\n",
        "\n",
        "print(f\"Páros számok száma: {len(paros)}\")\n",
        "print(f\"A lista elemei: {lista}\")"
      ],
      "metadata": {
        "id": "eBGM3v2sMfA-"
      },
      "execution_count": null,
      "outputs": []
    },
    {
      "cell_type": "code",
      "source": [
        "# ZamArtem Rename p1.feladatk.attila2 to parosharom.py\n",
        "'''\n",
        "A lista [120, 9, 5, 24, 6, 17, -45, 92, 15, 48, 57] elemei közül a program kiírja a 3-mal osztható páros számokat!\n",
        "'''\n",
        "megoldás:\n",
        "\n",
        "szamok = [120, 9, 5, 24, 6, 17, -45, 92, 15, 48, 57]\n",
        "\n",
        "for szam in szamok:\n",
        "    if szam % 6 == 0 and szam > 0:\n",
        "        print(szam)"
      ],
      "metadata": {
        "id": "PfJbnQXCMmoc"
      },
      "execution_count": null,
      "outputs": []
    },
    {
      "cell_type": "code",
      "source": [
        "# ZamArtem Update and rename p1.feladatk.attila3 to szamokenter.py\n",
        "'''\n",
        "Készíts egy programot, amely a felhasználótól számokat kér be mindaddig, amíg az csupán ENTER-t nem üt! \n",
        "A számokat tárolja el a program egy listában! Az adatbekérés befejezte után írja ki a program a lista elemeit, a legkisebb és a legnagyobb számot!\n",
        "'''\n",
        "szamlista = []\n",
        "\n",
        "while True:\n",
        "  szamok = input(\"kérek egy számot:\")\n",
        "  if szamok != \"\":\n",
        "    szamlista.append(szamok)\n",
        "  else:\n",
        "    szamlista.sort(key = int)\n",
        "    print(szamlista)\n",
        "    break"
      ],
      "metadata": {
        "id": "hOhfa5WVMtVT"
      },
      "execution_count": null,
      "outputs": []
    },
    {
      "cell_type": "code",
      "source": [
        "# kovacsbalazspeter21 Update and rename osszead.py to szamsorozat.py\n",
        "#feladat: A felhasználátol kérjen be egy számot, és az ebből készített számsorozatot adja össze, majd \n",
        "\n",
        "#példa\n",
        "'''\n",
        "kérek egy számot: 10\n",
        "55\n",
        "'''\n",
        "\n",
        "#megoldás:\n",
        "szam = int(input(\"kérek egy számot: \"))\n",
        "szamlalo = 0\n",
        "for i in range(szam + 1):\n",
        "    szamlalo += i #vagy szamlalo = szamlalo + i \n",
        "print(szamlalo)    \n"
      ],
      "metadata": {
        "id": "gH6rOB68M1Ri"
      },
      "execution_count": null,
      "outputs": []
    },
    {
      "cell_type": "code",
      "source": [
        "# loczylevi Rename p1noel_004 to szorzotabla.py\n",
        "#1. feladat: Hozzon létre egy függvényt, amely két számot vesz argumentumként (szám, hossz),\n",
        "és a szám többszöröseinek listáját adja vissza, amíg a lista hossza el nem éri a hosszúságot.\n",
        "# példa: list_of_multiples(7, 5) ➞ [7, 14, 21, 28, 35]\n",
        "\n",
        "'''Lehetséges Megoldás'''\n",
        "\n",
        "def asd(szam, hossz):\n",
        "  lista = []\n",
        "  szamm = szam\n",
        "  while hossz != 0:\n",
        "    lista.append(szamm)\n",
        "    szamm += szam\n",
        "    hossz -= 1\n",
        "  return lista"
      ],
      "metadata": {
        "id": "g3dQzMwaM9gx"
      },
      "execution_count": null,
      "outputs": []
    },
    {
      "cell_type": "code",
      "source": [
        "# violetta2413 Rename p1violetta_004.py to utolso_szamjegy.py\n",
        "'''\n",
        "Készíts egy programot, ami bekér egy számot a felhasználótól \n",
        "és kiírja a képernyőre az utolsó számjegyét!\n",
        "'''\n",
        "\n",
        "#megoldás\n",
        "\n",
        "szam = int(input(\"Adj meg egy számot:\"))\n",
        "print(szam % 10)"
      ],
      "metadata": {
        "id": "3MQfHMSPNEKZ"
      },
      "execution_count": null,
      "outputs": []
    },
    {
      "cell_type": "code",
      "source": [
        "# kovacsbalazspeter21 Add files via upload veletlen.py \n",
        "\"\"\"\n",
        "1. Feladat\n",
        "Készíts egy rövid programot, amely 1 és 3 között generál véletlenszámot, majd összehasonlítja ezt a felhasználó által megadott, szintén ebbe a tartományba eső számmal! Az összehasonlítás eredményéről tájékoztassa a felhasználót!\n",
        "\"\"\"\n",
        "\n",
        "import random\n",
        "veletlen_szam = random.randint(1, 3)\n",
        "#print(veletlen_szam)\n",
        "bekert = int(input(\"Kérem a számot!\"))\n",
        "if veletlen_szam == bekert:\n",
        "    print(\"Megegyezik!\")\n",
        "else:\n",
        "  print(\"Nem egyezik!\")"
      ],
      "metadata": {
        "id": "pE0Pvaw3NK2P"
      },
      "execution_count": null,
      "outputs": []
    },
    {
      "cell_type": "code",
      "source": [
        "# kovacsbalazspeter21 Add files via upload while.py \n",
        "'''\n",
        "1. Feladat\n",
        "Írj egy programot while ciklussal amely kiírja a páros számokat 1 és 10 között!\n",
        "'''\n",
        "\n",
        "szam = 0\n",
        "while szam < 10:\n",
        "  szam = szam + 2\n",
        "  print(szam)"
      ],
      "metadata": {
        "id": "9WRy9umoNV7m"
      },
      "execution_count": null,
      "outputs": []
    }
  ]
}